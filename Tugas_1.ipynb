{
  "nbformat": 4,
  "nbformat_minor": 0,
  "metadata": {
    "colab": {
      "provenance": [],
      "authorship_tag": "ABX9TyMu5HPCensXySXx/+Y5Os0T",
      "include_colab_link": true
    },
    "kernelspec": {
      "name": "python3",
      "display_name": "Python 3"
    },
    "language_info": {
      "name": "python"
    }
  },
  "cells": [
    {
      "cell_type": "markdown",
      "metadata": {
        "id": "view-in-github",
        "colab_type": "text"
      },
      "source": [
        "<a href=\"https://colab.research.google.com/github/muhammadFandi12/mini-Project-Data-Mining2/blob/main/Tugas_1.ipynb\" target=\"_parent\"><img src=\"https://colab.research.google.com/assets/colab-badge.svg\" alt=\"Open In Colab\"/></a>"
      ]
    },
    {
      "cell_type": "markdown",
      "source": [
        "# **Apple Quality**"
      ],
      "metadata": {
        "id": "EgG0T5jQavS6"
      }
    },
    {
      "cell_type": "markdown",
      "source": [
        "## **Business Understanding**"
      ],
      "metadata": {
        "id": "p-6voqfuQrt7"
      }
    },
    {
      "cell_type": "markdown",
      "source": [
        "**Business Objective**\n",
        "\n",
        "Tujuan dari Bisnis ini adalah Meningkatkan kualitas apel untuk meningkatkan kepuasan pelanggan dan daya saing pasar. Ini mencakup peningkatan kesegaran, rasa, dan nilai gizi apel, serta pengurangan cacat dan kerusakan.\n"
      ],
      "metadata": {
        "id": "vrV2MIYXRgUV"
      }
    },
    {
      "cell_type": "markdown",
      "source": [
        "**Assess Situation**\n",
        "\n",
        "Kualitas apel saat ini mungkin tidak konsisten di pasar. Pelanggan semakin memprioritaskan produk segar dan berkualitas tinggi, dan pesaing mungkin sudah menginvestasikan kontrol kualitas. Rantai pasokan apel harus dianalisis untuk mengidentifikasi titik potensial degradasi kualitas, mulai dari panen hingga distribusi."
      ],
      "metadata": {
        "id": "KAcLhtbKSmgC"
      }
    },
    {
      "cell_type": "markdown",
      "source": [
        "**Data Mining Goals**\n",
        "\n",
        "Data tentang kualitas apel harus dikumpulkan dari pemasok, distributor, dan umpan balik pelanggan. Analisis data menggunakan metode statistik dan pembelajaran mesin untuk mengidentifikasi pola dan faktor yang memengaruhi kualitas apel. Model prediktif dapat dikembangkan untuk memprediksi kualitas apel berdasarkan faktor-faktor seperti kondisi panen, transportasi, dan metode penyimpanan. Wawasan yang diperoleh dari model harus dapat diubah menjadi strategi yang dapat diambil tindakan."
      ],
      "metadata": {
        "id": "C52oBX1iXfGd"
      }
    },
    {
      "cell_type": "markdown",
      "source": [
        "**Project Plan**\n",
        "\n",
        "Proyek harus terdiri dari beberapa tahap: pengumpulan data, analisis data, pembuatan model, dan implementasi strategi. Setiap tahap harus diberi waktu yang cukup untuk menyelesaikannya dengan baik. Setelah model selesai, strategi berdasarkan wawasan model harus diimplementasikan dan dievaluasi untuk efektivitasnya."
      ],
      "metadata": {
        "id": "10pfpHqwZc7O"
      }
    },
    {
      "cell_type": "markdown",
      "source": [
        "## **Collect Initial Data**\n",
        "\n",
        "\n",
        "Data ini diambil dari Kaggle dan tujuan dari dataset ini adalah Meningkatkan kualitas apel untuk meningkatkan kepuasan pelanggan dan daya saing, Kumpulan data ini berisi informasi tentang berbagai atribut sekumpulan buah-buahan, yang memberikan wawasan tentang karakteristiknya. Kumpulan data tersebut mencakup detail seperti ID buah, ukuran, berat, rasa manis, kerenyahan, juiciness, kematangan, keasaman, dan kualitas."
      ],
      "metadata": {
        "id": "48Ys-CKrM1BO"
      }
    },
    {
      "cell_type": "code",
      "execution_count": 11,
      "metadata": {
        "id": "M8TwwSRmZiiQ"
      },
      "outputs": [],
      "source": [
        "import pandas as pd\n",
        "import matplotlib.pyplot as plt\n",
        "import seaborn as sns"
      ]
    },
    {
      "cell_type": "code",
      "source": [
        "df = pd.read_csv(\"apple_quality.csv\")\n",
        "\n",
        "df.head()"
      ],
      "metadata": {
        "colab": {
          "base_uri": "https://localhost:8080/",
          "height": 206
        },
        "id": "W6onfdzZapZl",
        "outputId": "822465fc-f05f-43f2-8c30-59982a03e2ce"
      },
      "execution_count": 12,
      "outputs": [
        {
          "output_type": "execute_result",
          "data": {
            "text/plain": [
              "   A_id      Size    Weight  Sweetness  Crunchiness  Juiciness  Ripeness  \\\n",
              "0   0.0 -3.970049 -2.512336   5.346330    -1.012009   1.844900  0.329840   \n",
              "1   1.0 -1.195217 -2.839257   3.664059     1.588232   0.853286  0.867530   \n",
              "2   2.0 -0.292024 -1.351282  -1.738429    -0.342616   2.838636 -0.038033   \n",
              "3   3.0 -0.657196 -2.271627   1.324874    -0.097875   3.637970 -3.413761   \n",
              "4   4.0  1.364217 -1.296612  -0.384658    -0.553006   3.030874 -1.303849   \n",
              "\n",
              "        Acidity Quality  \n",
              "0  -0.491590483    good  \n",
              "1  -0.722809367    good  \n",
              "2   2.621636473     bad  \n",
              "3   0.790723217    good  \n",
              "4   0.501984036    good  "
            ],
            "text/html": [
              "\n",
              "  <div id=\"df-74ce4732-9fb6-46ac-996b-ffa53c3040f1\" class=\"colab-df-container\">\n",
              "    <div>\n",
              "<style scoped>\n",
              "    .dataframe tbody tr th:only-of-type {\n",
              "        vertical-align: middle;\n",
              "    }\n",
              "\n",
              "    .dataframe tbody tr th {\n",
              "        vertical-align: top;\n",
              "    }\n",
              "\n",
              "    .dataframe thead th {\n",
              "        text-align: right;\n",
              "    }\n",
              "</style>\n",
              "<table border=\"1\" class=\"dataframe\">\n",
              "  <thead>\n",
              "    <tr style=\"text-align: right;\">\n",
              "      <th></th>\n",
              "      <th>A_id</th>\n",
              "      <th>Size</th>\n",
              "      <th>Weight</th>\n",
              "      <th>Sweetness</th>\n",
              "      <th>Crunchiness</th>\n",
              "      <th>Juiciness</th>\n",
              "      <th>Ripeness</th>\n",
              "      <th>Acidity</th>\n",
              "      <th>Quality</th>\n",
              "    </tr>\n",
              "  </thead>\n",
              "  <tbody>\n",
              "    <tr>\n",
              "      <th>0</th>\n",
              "      <td>0.0</td>\n",
              "      <td>-3.970049</td>\n",
              "      <td>-2.512336</td>\n",
              "      <td>5.346330</td>\n",
              "      <td>-1.012009</td>\n",
              "      <td>1.844900</td>\n",
              "      <td>0.329840</td>\n",
              "      <td>-0.491590483</td>\n",
              "      <td>good</td>\n",
              "    </tr>\n",
              "    <tr>\n",
              "      <th>1</th>\n",
              "      <td>1.0</td>\n",
              "      <td>-1.195217</td>\n",
              "      <td>-2.839257</td>\n",
              "      <td>3.664059</td>\n",
              "      <td>1.588232</td>\n",
              "      <td>0.853286</td>\n",
              "      <td>0.867530</td>\n",
              "      <td>-0.722809367</td>\n",
              "      <td>good</td>\n",
              "    </tr>\n",
              "    <tr>\n",
              "      <th>2</th>\n",
              "      <td>2.0</td>\n",
              "      <td>-0.292024</td>\n",
              "      <td>-1.351282</td>\n",
              "      <td>-1.738429</td>\n",
              "      <td>-0.342616</td>\n",
              "      <td>2.838636</td>\n",
              "      <td>-0.038033</td>\n",
              "      <td>2.621636473</td>\n",
              "      <td>bad</td>\n",
              "    </tr>\n",
              "    <tr>\n",
              "      <th>3</th>\n",
              "      <td>3.0</td>\n",
              "      <td>-0.657196</td>\n",
              "      <td>-2.271627</td>\n",
              "      <td>1.324874</td>\n",
              "      <td>-0.097875</td>\n",
              "      <td>3.637970</td>\n",
              "      <td>-3.413761</td>\n",
              "      <td>0.790723217</td>\n",
              "      <td>good</td>\n",
              "    </tr>\n",
              "    <tr>\n",
              "      <th>4</th>\n",
              "      <td>4.0</td>\n",
              "      <td>1.364217</td>\n",
              "      <td>-1.296612</td>\n",
              "      <td>-0.384658</td>\n",
              "      <td>-0.553006</td>\n",
              "      <td>3.030874</td>\n",
              "      <td>-1.303849</td>\n",
              "      <td>0.501984036</td>\n",
              "      <td>good</td>\n",
              "    </tr>\n",
              "  </tbody>\n",
              "</table>\n",
              "</div>\n",
              "    <div class=\"colab-df-buttons\">\n",
              "\n",
              "  <div class=\"colab-df-container\">\n",
              "    <button class=\"colab-df-convert\" onclick=\"convertToInteractive('df-74ce4732-9fb6-46ac-996b-ffa53c3040f1')\"\n",
              "            title=\"Convert this dataframe to an interactive table.\"\n",
              "            style=\"display:none;\">\n",
              "\n",
              "  <svg xmlns=\"http://www.w3.org/2000/svg\" height=\"24px\" viewBox=\"0 -960 960 960\">\n",
              "    <path d=\"M120-120v-720h720v720H120Zm60-500h600v-160H180v160Zm220 220h160v-160H400v160Zm0 220h160v-160H400v160ZM180-400h160v-160H180v160Zm440 0h160v-160H620v160ZM180-180h160v-160H180v160Zm440 0h160v-160H620v160Z\"/>\n",
              "  </svg>\n",
              "    </button>\n",
              "\n",
              "  <style>\n",
              "    .colab-df-container {\n",
              "      display:flex;\n",
              "      gap: 12px;\n",
              "    }\n",
              "\n",
              "    .colab-df-convert {\n",
              "      background-color: #E8F0FE;\n",
              "      border: none;\n",
              "      border-radius: 50%;\n",
              "      cursor: pointer;\n",
              "      display: none;\n",
              "      fill: #1967D2;\n",
              "      height: 32px;\n",
              "      padding: 0 0 0 0;\n",
              "      width: 32px;\n",
              "    }\n",
              "\n",
              "    .colab-df-convert:hover {\n",
              "      background-color: #E2EBFA;\n",
              "      box-shadow: 0px 1px 2px rgba(60, 64, 67, 0.3), 0px 1px 3px 1px rgba(60, 64, 67, 0.15);\n",
              "      fill: #174EA6;\n",
              "    }\n",
              "\n",
              "    .colab-df-buttons div {\n",
              "      margin-bottom: 4px;\n",
              "    }\n",
              "\n",
              "    [theme=dark] .colab-df-convert {\n",
              "      background-color: #3B4455;\n",
              "      fill: #D2E3FC;\n",
              "    }\n",
              "\n",
              "    [theme=dark] .colab-df-convert:hover {\n",
              "      background-color: #434B5C;\n",
              "      box-shadow: 0px 1px 3px 1px rgba(0, 0, 0, 0.15);\n",
              "      filter: drop-shadow(0px 1px 2px rgba(0, 0, 0, 0.3));\n",
              "      fill: #FFFFFF;\n",
              "    }\n",
              "  </style>\n",
              "\n",
              "    <script>\n",
              "      const buttonEl =\n",
              "        document.querySelector('#df-74ce4732-9fb6-46ac-996b-ffa53c3040f1 button.colab-df-convert');\n",
              "      buttonEl.style.display =\n",
              "        google.colab.kernel.accessAllowed ? 'block' : 'none';\n",
              "\n",
              "      async function convertToInteractive(key) {\n",
              "        const element = document.querySelector('#df-74ce4732-9fb6-46ac-996b-ffa53c3040f1');\n",
              "        const dataTable =\n",
              "          await google.colab.kernel.invokeFunction('convertToInteractive',\n",
              "                                                    [key], {});\n",
              "        if (!dataTable) return;\n",
              "\n",
              "        const docLinkHtml = 'Like what you see? Visit the ' +\n",
              "          '<a target=\"_blank\" href=https://colab.research.google.com/notebooks/data_table.ipynb>data table notebook</a>'\n",
              "          + ' to learn more about interactive tables.';\n",
              "        element.innerHTML = '';\n",
              "        dataTable['output_type'] = 'display_data';\n",
              "        await google.colab.output.renderOutput(dataTable, element);\n",
              "        const docLink = document.createElement('div');\n",
              "        docLink.innerHTML = docLinkHtml;\n",
              "        element.appendChild(docLink);\n",
              "      }\n",
              "    </script>\n",
              "  </div>\n",
              "\n",
              "\n",
              "<div id=\"df-b8adde2c-be48-4a8c-ab8c-3cc7f7c460d1\">\n",
              "  <button class=\"colab-df-quickchart\" onclick=\"quickchart('df-b8adde2c-be48-4a8c-ab8c-3cc7f7c460d1')\"\n",
              "            title=\"Suggest charts\"\n",
              "            style=\"display:none;\">\n",
              "\n",
              "<svg xmlns=\"http://www.w3.org/2000/svg\" height=\"24px\"viewBox=\"0 0 24 24\"\n",
              "     width=\"24px\">\n",
              "    <g>\n",
              "        <path d=\"M19 3H5c-1.1 0-2 .9-2 2v14c0 1.1.9 2 2 2h14c1.1 0 2-.9 2-2V5c0-1.1-.9-2-2-2zM9 17H7v-7h2v7zm4 0h-2V7h2v10zm4 0h-2v-4h2v4z\"/>\n",
              "    </g>\n",
              "</svg>\n",
              "  </button>\n",
              "\n",
              "<style>\n",
              "  .colab-df-quickchart {\n",
              "      --bg-color: #E8F0FE;\n",
              "      --fill-color: #1967D2;\n",
              "      --hover-bg-color: #E2EBFA;\n",
              "      --hover-fill-color: #174EA6;\n",
              "      --disabled-fill-color: #AAA;\n",
              "      --disabled-bg-color: #DDD;\n",
              "  }\n",
              "\n",
              "  [theme=dark] .colab-df-quickchart {\n",
              "      --bg-color: #3B4455;\n",
              "      --fill-color: #D2E3FC;\n",
              "      --hover-bg-color: #434B5C;\n",
              "      --hover-fill-color: #FFFFFF;\n",
              "      --disabled-bg-color: #3B4455;\n",
              "      --disabled-fill-color: #666;\n",
              "  }\n",
              "\n",
              "  .colab-df-quickchart {\n",
              "    background-color: var(--bg-color);\n",
              "    border: none;\n",
              "    border-radius: 50%;\n",
              "    cursor: pointer;\n",
              "    display: none;\n",
              "    fill: var(--fill-color);\n",
              "    height: 32px;\n",
              "    padding: 0;\n",
              "    width: 32px;\n",
              "  }\n",
              "\n",
              "  .colab-df-quickchart:hover {\n",
              "    background-color: var(--hover-bg-color);\n",
              "    box-shadow: 0 1px 2px rgba(60, 64, 67, 0.3), 0 1px 3px 1px rgba(60, 64, 67, 0.15);\n",
              "    fill: var(--button-hover-fill-color);\n",
              "  }\n",
              "\n",
              "  .colab-df-quickchart-complete:disabled,\n",
              "  .colab-df-quickchart-complete:disabled:hover {\n",
              "    background-color: var(--disabled-bg-color);\n",
              "    fill: var(--disabled-fill-color);\n",
              "    box-shadow: none;\n",
              "  }\n",
              "\n",
              "  .colab-df-spinner {\n",
              "    border: 2px solid var(--fill-color);\n",
              "    border-color: transparent;\n",
              "    border-bottom-color: var(--fill-color);\n",
              "    animation:\n",
              "      spin 1s steps(1) infinite;\n",
              "  }\n",
              "\n",
              "  @keyframes spin {\n",
              "    0% {\n",
              "      border-color: transparent;\n",
              "      border-bottom-color: var(--fill-color);\n",
              "      border-left-color: var(--fill-color);\n",
              "    }\n",
              "    20% {\n",
              "      border-color: transparent;\n",
              "      border-left-color: var(--fill-color);\n",
              "      border-top-color: var(--fill-color);\n",
              "    }\n",
              "    30% {\n",
              "      border-color: transparent;\n",
              "      border-left-color: var(--fill-color);\n",
              "      border-top-color: var(--fill-color);\n",
              "      border-right-color: var(--fill-color);\n",
              "    }\n",
              "    40% {\n",
              "      border-color: transparent;\n",
              "      border-right-color: var(--fill-color);\n",
              "      border-top-color: var(--fill-color);\n",
              "    }\n",
              "    60% {\n",
              "      border-color: transparent;\n",
              "      border-right-color: var(--fill-color);\n",
              "    }\n",
              "    80% {\n",
              "      border-color: transparent;\n",
              "      border-right-color: var(--fill-color);\n",
              "      border-bottom-color: var(--fill-color);\n",
              "    }\n",
              "    90% {\n",
              "      border-color: transparent;\n",
              "      border-bottom-color: var(--fill-color);\n",
              "    }\n",
              "  }\n",
              "</style>\n",
              "\n",
              "  <script>\n",
              "    async function quickchart(key) {\n",
              "      const quickchartButtonEl =\n",
              "        document.querySelector('#' + key + ' button');\n",
              "      quickchartButtonEl.disabled = true;  // To prevent multiple clicks.\n",
              "      quickchartButtonEl.classList.add('colab-df-spinner');\n",
              "      try {\n",
              "        const charts = await google.colab.kernel.invokeFunction(\n",
              "            'suggestCharts', [key], {});\n",
              "      } catch (error) {\n",
              "        console.error('Error during call to suggestCharts:', error);\n",
              "      }\n",
              "      quickchartButtonEl.classList.remove('colab-df-spinner');\n",
              "      quickchartButtonEl.classList.add('colab-df-quickchart-complete');\n",
              "    }\n",
              "    (() => {\n",
              "      let quickchartButtonEl =\n",
              "        document.querySelector('#df-b8adde2c-be48-4a8c-ab8c-3cc7f7c460d1 button');\n",
              "      quickchartButtonEl.style.display =\n",
              "        google.colab.kernel.accessAllowed ? 'block' : 'none';\n",
              "    })();\n",
              "  </script>\n",
              "</div>\n",
              "    </div>\n",
              "  </div>\n"
            ],
            "application/vnd.google.colaboratory.intrinsic+json": {
              "type": "dataframe",
              "variable_name": "df",
              "summary": "{\n  \"name\": \"df\",\n  \"rows\": 4001,\n  \"fields\": [\n    {\n      \"column\": \"A_id\",\n      \"properties\": {\n        \"dtype\": \"number\",\n        \"std\": 1154.8448669265786,\n        \"min\": 0.0,\n        \"max\": 3999.0,\n        \"num_unique_values\": 4000,\n        \"samples\": [\n          555.0,\n          3491.0,\n          527.0\n        ],\n        \"semantic_type\": \"\",\n        \"description\": \"\"\n      }\n    },\n    {\n      \"column\": \"Size\",\n      \"properties\": {\n        \"dtype\": \"number\",\n        \"std\": 1.928058688854979,\n        \"min\": -7.151703059,\n        \"max\": 6.406366899,\n        \"num_unique_values\": 4000,\n        \"samples\": [\n          3.099410637,\n          1.439787602,\n          1.20678634\n        ],\n        \"semantic_type\": \"\",\n        \"description\": \"\"\n      }\n    },\n    {\n      \"column\": \"Weight\",\n      \"properties\": {\n        \"dtype\": \"number\",\n        \"std\": 1.6025072141517547,\n        \"min\": -7.149847675,\n        \"max\": 5.79071359,\n        \"num_unique_values\": 4000,\n        \"samples\": [\n          -1.691560679,\n          -0.223976263,\n          -0.508979201\n        ],\n        \"semantic_type\": \"\",\n        \"description\": \"\"\n      }\n    },\n    {\n      \"column\": \"Sweetness\",\n      \"properties\": {\n        \"dtype\": \"number\",\n        \"std\": 1.943440658920452,\n        \"min\": -6.894485494,\n        \"max\": 6.374915513,\n        \"num_unique_values\": 4000,\n        \"samples\": [\n          -3.679364,\n          -0.061448613,\n          1.736206944\n        ],\n        \"semantic_type\": \"\",\n        \"description\": \"\"\n      }\n    },\n    {\n      \"column\": \"Crunchiness\",\n      \"properties\": {\n        \"dtype\": \"number\",\n        \"std\": 1.402757204211963,\n        \"min\": -6.055057805,\n        \"max\": 7.619851801,\n        \"num_unique_values\": 4000,\n        \"samples\": [\n          0.963605627,\n          1.412704629,\n          1.301010753\n        ],\n        \"semantic_type\": \"\",\n        \"description\": \"\"\n      }\n    },\n    {\n      \"column\": \"Juiciness\",\n      \"properties\": {\n        \"dtype\": \"number\",\n        \"std\": 1.9302856730942946,\n        \"min\": -5.961897048,\n        \"max\": 7.364402864,\n        \"num_unique_values\": 4000,\n        \"samples\": [\n          0.538102393,\n          0.885640988,\n          -0.556148589\n        ],\n        \"semantic_type\": \"\",\n        \"description\": \"\"\n      }\n    },\n    {\n      \"column\": \"Ripeness\",\n      \"properties\": {\n        \"dtype\": \"number\",\n        \"std\": 1.8744267757033417,\n        \"min\": -5.864598918,\n        \"max\": 7.237836684,\n        \"num_unique_values\": 4000,\n        \"samples\": [\n          1.660099378,\n          -2.191810607,\n          -1.332051678\n        ],\n        \"semantic_type\": \"\",\n        \"description\": \"\"\n      }\n    },\n    {\n      \"column\": \"Acidity\",\n      \"properties\": {\n        \"dtype\": \"string\",\n        \"num_unique_values\": 4001,\n        \"samples\": [\n          \"-0.544761148\",\n          \"0.766026809\",\n          \"1.009155619\"\n        ],\n        \"semantic_type\": \"\",\n        \"description\": \"\"\n      }\n    },\n    {\n      \"column\": \"Quality\",\n      \"properties\": {\n        \"dtype\": \"category\",\n        \"num_unique_values\": 2,\n        \"samples\": [\n          \"bad\",\n          \"good\"\n        ],\n        \"semantic_type\": \"\",\n        \"description\": \"\"\n      }\n    }\n  ]\n}"
            }
          },
          "metadata": {},
          "execution_count": 12
        }
      ]
    },
    {
      "cell_type": "markdown",
      "source": [
        "## **Describe Data**"
      ],
      "metadata": {
        "id": "5I7XKDSYOuDE"
      }
    },
    {
      "cell_type": "markdown",
      "source": [
        "### Informasi Dasar"
      ],
      "metadata": {
        "id": "8YMbdJuxPrNG"
      }
    },
    {
      "cell_type": "code",
      "source": [
        "jumlah_baris, jumlah_kolom = df.shape\n",
        "print(f\"Jumlah Baris: {jumlah_baris}\")\n",
        "print(f\"Jumlah Kolom: {jumlah_kolom}\")"
      ],
      "metadata": {
        "colab": {
          "base_uri": "https://localhost:8080/"
        },
        "id": "XkRBllyoO3wW",
        "outputId": "36e38db2-22b5-45a4-b5d0-6b1352343db6"
      },
      "execution_count": 13,
      "outputs": [
        {
          "output_type": "stream",
          "name": "stdout",
          "text": [
            "Jumlah Baris: 4001\n",
            "Jumlah Kolom: 9\n"
          ]
        }
      ]
    },
    {
      "cell_type": "markdown",
      "source": [
        "informasi dari dataset ini menampilkan jumlah baris dan jumlah kolom, jumlah baris berjumlah 4001 dan jumlah kolom berjumlah 9."
      ],
      "metadata": {
        "id": "-MLDXoTmP8fE"
      }
    },
    {
      "cell_type": "markdown",
      "source": [
        "### Informasi Lanjutan"
      ],
      "metadata": {
        "id": "Dn0dCXWUQctH"
      }
    },
    {
      "cell_type": "code",
      "source": [
        "df.info()"
      ],
      "metadata": {
        "colab": {
          "base_uri": "https://localhost:8080/"
        },
        "id": "ZxqOhJJmQm4y",
        "outputId": "235abfd1-43b0-4565-a60f-726e8b9aedf9"
      },
      "execution_count": 14,
      "outputs": [
        {
          "output_type": "stream",
          "name": "stdout",
          "text": [
            "<class 'pandas.core.frame.DataFrame'>\n",
            "RangeIndex: 4001 entries, 0 to 4000\n",
            "Data columns (total 9 columns):\n",
            " #   Column       Non-Null Count  Dtype  \n",
            "---  ------       --------------  -----  \n",
            " 0   A_id         4000 non-null   float64\n",
            " 1   Size         4000 non-null   float64\n",
            " 2   Weight       4000 non-null   float64\n",
            " 3   Sweetness    4000 non-null   float64\n",
            " 4   Crunchiness  4000 non-null   float64\n",
            " 5   Juiciness    4000 non-null   float64\n",
            " 6   Ripeness     4000 non-null   float64\n",
            " 7   Acidity      4001 non-null   object \n",
            " 8   Quality      4000 non-null   object \n",
            "dtypes: float64(7), object(2)\n",
            "memory usage: 281.4+ KB\n"
          ]
        }
      ]
    },
    {
      "cell_type": "markdown",
      "source": [
        "jumlah kolom dari dataset ini berjumlah 9 kolom dan spesifikasi dari dataset ini adalah\n",
        "\n",
        "1. A_id: Ini adalah kolom yang berisi ID atau identifikasi unik untuk setiap buah apel. Jumlah non-null adalah 4000. Tipe datanya adalah float64, yang berarti itu adalah angka desimal.\n",
        "\n",
        "2. Size: Ini adalah kolom yang menggambarkan ukuran setiap buah apel. Jumlah non-null adalah 4000. Tipe datanya adalah float64.\n",
        "\n",
        "3. Weight: Ini adalah kolom yang menggambarkan berat setiap buah apel dalam satuan tertentu (mungkin gram atau pound). Jumlah non-null adalah 4000. Tipe datanya adalah float64.\n",
        "\n",
        "4. Sweetness: Ini adalah kolom yang menggambarkan tingkat manisnya setiap buah apel. Jumlah non-null adalah 4000. Tipe datanya adalah float64.\n",
        "\n",
        "5. Crunchiness: Ini adalah kolom yang menggambarkan tingkat kerenyahan setiap buah apel. Jumlah non-null adalah 4000. Tipe datanya adalah float64.\n",
        "\n",
        "6. Juiciness: Ini adalah kolom yang menggambarkan tingkat kelembaban atau kandungan jus setiap buah apel. Jumlah non-null adalah 4000. Tipe datanya adalah float64.\n",
        "\n",
        "7. Ripeness: Ini adalah kolom yang menggambarkan tingkat kematangan setiap buah apel. Jumlah non-null adalah 4000. Tipe datanya adalah float64.\n",
        "\n",
        "8. Acidity: Ini adalah kolom yang menggambarkan tingkat keasaman setiap buah apel. Jumlah non-null adalah 4001. Tipe datanya adalah object, yang mungkin menunjukkan bahwa beberapa nilai mungkin bukan angka atau ada nilai yang hilang.\n",
        "\n",
        "9. Quality: Ini adalah kolom yang menggambarkan kualitas setiap buah apel. Jumlah non-null adalah 4000. Tipe datanya adalah object."
      ],
      "metadata": {
        "id": "bSLjqT-AQq92"
      }
    },
    {
      "cell_type": "markdown",
      "source": [
        "### Informasi Statistik Deskriptif"
      ],
      "metadata": {
        "id": "scA2_KmiS9-p"
      }
    },
    {
      "cell_type": "code",
      "source": [
        "df.describe()"
      ],
      "metadata": {
        "colab": {
          "base_uri": "https://localhost:8080/",
          "height": 300
        },
        "id": "ZqbGWJijTZZJ",
        "outputId": "eb8c8b1a-1a1a-45d9-d278-0428993f9eb1"
      },
      "execution_count": 15,
      "outputs": [
        {
          "output_type": "execute_result",
          "data": {
            "text/plain": [
              "              A_id         Size       Weight    Sweetness  Crunchiness  \\\n",
              "count  4000.000000  4000.000000  4000.000000  4000.000000  4000.000000   \n",
              "mean   1999.500000    -0.503015    -0.989547    -0.470479     0.985478   \n",
              "std    1154.844867     1.928059     1.602507     1.943441     1.402757   \n",
              "min       0.000000    -7.151703    -7.149848    -6.894485    -6.055058   \n",
              "25%     999.750000    -1.816765    -2.011770    -1.738425     0.062764   \n",
              "50%    1999.500000    -0.513703    -0.984736    -0.504758     0.998249   \n",
              "75%    2999.250000     0.805526     0.030976     0.801922     1.894234   \n",
              "max    3999.000000     6.406367     5.790714     6.374916     7.619852   \n",
              "\n",
              "         Juiciness     Ripeness  \n",
              "count  4000.000000  4000.000000  \n",
              "mean      0.512118     0.498277  \n",
              "std       1.930286     1.874427  \n",
              "min      -5.961897    -5.864599  \n",
              "25%      -0.801286    -0.771677  \n",
              "50%       0.534219     0.503445  \n",
              "75%       1.835976     1.766212  \n",
              "max       7.364403     7.237837  "
            ],
            "text/html": [
              "\n",
              "  <div id=\"df-2b799717-0609-47c0-aa4c-26523c206b4c\" class=\"colab-df-container\">\n",
              "    <div>\n",
              "<style scoped>\n",
              "    .dataframe tbody tr th:only-of-type {\n",
              "        vertical-align: middle;\n",
              "    }\n",
              "\n",
              "    .dataframe tbody tr th {\n",
              "        vertical-align: top;\n",
              "    }\n",
              "\n",
              "    .dataframe thead th {\n",
              "        text-align: right;\n",
              "    }\n",
              "</style>\n",
              "<table border=\"1\" class=\"dataframe\">\n",
              "  <thead>\n",
              "    <tr style=\"text-align: right;\">\n",
              "      <th></th>\n",
              "      <th>A_id</th>\n",
              "      <th>Size</th>\n",
              "      <th>Weight</th>\n",
              "      <th>Sweetness</th>\n",
              "      <th>Crunchiness</th>\n",
              "      <th>Juiciness</th>\n",
              "      <th>Ripeness</th>\n",
              "    </tr>\n",
              "  </thead>\n",
              "  <tbody>\n",
              "    <tr>\n",
              "      <th>count</th>\n",
              "      <td>4000.000000</td>\n",
              "      <td>4000.000000</td>\n",
              "      <td>4000.000000</td>\n",
              "      <td>4000.000000</td>\n",
              "      <td>4000.000000</td>\n",
              "      <td>4000.000000</td>\n",
              "      <td>4000.000000</td>\n",
              "    </tr>\n",
              "    <tr>\n",
              "      <th>mean</th>\n",
              "      <td>1999.500000</td>\n",
              "      <td>-0.503015</td>\n",
              "      <td>-0.989547</td>\n",
              "      <td>-0.470479</td>\n",
              "      <td>0.985478</td>\n",
              "      <td>0.512118</td>\n",
              "      <td>0.498277</td>\n",
              "    </tr>\n",
              "    <tr>\n",
              "      <th>std</th>\n",
              "      <td>1154.844867</td>\n",
              "      <td>1.928059</td>\n",
              "      <td>1.602507</td>\n",
              "      <td>1.943441</td>\n",
              "      <td>1.402757</td>\n",
              "      <td>1.930286</td>\n",
              "      <td>1.874427</td>\n",
              "    </tr>\n",
              "    <tr>\n",
              "      <th>min</th>\n",
              "      <td>0.000000</td>\n",
              "      <td>-7.151703</td>\n",
              "      <td>-7.149848</td>\n",
              "      <td>-6.894485</td>\n",
              "      <td>-6.055058</td>\n",
              "      <td>-5.961897</td>\n",
              "      <td>-5.864599</td>\n",
              "    </tr>\n",
              "    <tr>\n",
              "      <th>25%</th>\n",
              "      <td>999.750000</td>\n",
              "      <td>-1.816765</td>\n",
              "      <td>-2.011770</td>\n",
              "      <td>-1.738425</td>\n",
              "      <td>0.062764</td>\n",
              "      <td>-0.801286</td>\n",
              "      <td>-0.771677</td>\n",
              "    </tr>\n",
              "    <tr>\n",
              "      <th>50%</th>\n",
              "      <td>1999.500000</td>\n",
              "      <td>-0.513703</td>\n",
              "      <td>-0.984736</td>\n",
              "      <td>-0.504758</td>\n",
              "      <td>0.998249</td>\n",
              "      <td>0.534219</td>\n",
              "      <td>0.503445</td>\n",
              "    </tr>\n",
              "    <tr>\n",
              "      <th>75%</th>\n",
              "      <td>2999.250000</td>\n",
              "      <td>0.805526</td>\n",
              "      <td>0.030976</td>\n",
              "      <td>0.801922</td>\n",
              "      <td>1.894234</td>\n",
              "      <td>1.835976</td>\n",
              "      <td>1.766212</td>\n",
              "    </tr>\n",
              "    <tr>\n",
              "      <th>max</th>\n",
              "      <td>3999.000000</td>\n",
              "      <td>6.406367</td>\n",
              "      <td>5.790714</td>\n",
              "      <td>6.374916</td>\n",
              "      <td>7.619852</td>\n",
              "      <td>7.364403</td>\n",
              "      <td>7.237837</td>\n",
              "    </tr>\n",
              "  </tbody>\n",
              "</table>\n",
              "</div>\n",
              "    <div class=\"colab-df-buttons\">\n",
              "\n",
              "  <div class=\"colab-df-container\">\n",
              "    <button class=\"colab-df-convert\" onclick=\"convertToInteractive('df-2b799717-0609-47c0-aa4c-26523c206b4c')\"\n",
              "            title=\"Convert this dataframe to an interactive table.\"\n",
              "            style=\"display:none;\">\n",
              "\n",
              "  <svg xmlns=\"http://www.w3.org/2000/svg\" height=\"24px\" viewBox=\"0 -960 960 960\">\n",
              "    <path d=\"M120-120v-720h720v720H120Zm60-500h600v-160H180v160Zm220 220h160v-160H400v160Zm0 220h160v-160H400v160ZM180-400h160v-160H180v160Zm440 0h160v-160H620v160ZM180-180h160v-160H180v160Zm440 0h160v-160H620v160Z\"/>\n",
              "  </svg>\n",
              "    </button>\n",
              "\n",
              "  <style>\n",
              "    .colab-df-container {\n",
              "      display:flex;\n",
              "      gap: 12px;\n",
              "    }\n",
              "\n",
              "    .colab-df-convert {\n",
              "      background-color: #E8F0FE;\n",
              "      border: none;\n",
              "      border-radius: 50%;\n",
              "      cursor: pointer;\n",
              "      display: none;\n",
              "      fill: #1967D2;\n",
              "      height: 32px;\n",
              "      padding: 0 0 0 0;\n",
              "      width: 32px;\n",
              "    }\n",
              "\n",
              "    .colab-df-convert:hover {\n",
              "      background-color: #E2EBFA;\n",
              "      box-shadow: 0px 1px 2px rgba(60, 64, 67, 0.3), 0px 1px 3px 1px rgba(60, 64, 67, 0.15);\n",
              "      fill: #174EA6;\n",
              "    }\n",
              "\n",
              "    .colab-df-buttons div {\n",
              "      margin-bottom: 4px;\n",
              "    }\n",
              "\n",
              "    [theme=dark] .colab-df-convert {\n",
              "      background-color: #3B4455;\n",
              "      fill: #D2E3FC;\n",
              "    }\n",
              "\n",
              "    [theme=dark] .colab-df-convert:hover {\n",
              "      background-color: #434B5C;\n",
              "      box-shadow: 0px 1px 3px 1px rgba(0, 0, 0, 0.15);\n",
              "      filter: drop-shadow(0px 1px 2px rgba(0, 0, 0, 0.3));\n",
              "      fill: #FFFFFF;\n",
              "    }\n",
              "  </style>\n",
              "\n",
              "    <script>\n",
              "      const buttonEl =\n",
              "        document.querySelector('#df-2b799717-0609-47c0-aa4c-26523c206b4c button.colab-df-convert');\n",
              "      buttonEl.style.display =\n",
              "        google.colab.kernel.accessAllowed ? 'block' : 'none';\n",
              "\n",
              "      async function convertToInteractive(key) {\n",
              "        const element = document.querySelector('#df-2b799717-0609-47c0-aa4c-26523c206b4c');\n",
              "        const dataTable =\n",
              "          await google.colab.kernel.invokeFunction('convertToInteractive',\n",
              "                                                    [key], {});\n",
              "        if (!dataTable) return;\n",
              "\n",
              "        const docLinkHtml = 'Like what you see? Visit the ' +\n",
              "          '<a target=\"_blank\" href=https://colab.research.google.com/notebooks/data_table.ipynb>data table notebook</a>'\n",
              "          + ' to learn more about interactive tables.';\n",
              "        element.innerHTML = '';\n",
              "        dataTable['output_type'] = 'display_data';\n",
              "        await google.colab.output.renderOutput(dataTable, element);\n",
              "        const docLink = document.createElement('div');\n",
              "        docLink.innerHTML = docLinkHtml;\n",
              "        element.appendChild(docLink);\n",
              "      }\n",
              "    </script>\n",
              "  </div>\n",
              "\n",
              "\n",
              "<div id=\"df-9ca46090-97be-47cf-8f6c-79016477aad6\">\n",
              "  <button class=\"colab-df-quickchart\" onclick=\"quickchart('df-9ca46090-97be-47cf-8f6c-79016477aad6')\"\n",
              "            title=\"Suggest charts\"\n",
              "            style=\"display:none;\">\n",
              "\n",
              "<svg xmlns=\"http://www.w3.org/2000/svg\" height=\"24px\"viewBox=\"0 0 24 24\"\n",
              "     width=\"24px\">\n",
              "    <g>\n",
              "        <path d=\"M19 3H5c-1.1 0-2 .9-2 2v14c0 1.1.9 2 2 2h14c1.1 0 2-.9 2-2V5c0-1.1-.9-2-2-2zM9 17H7v-7h2v7zm4 0h-2V7h2v10zm4 0h-2v-4h2v4z\"/>\n",
              "    </g>\n",
              "</svg>\n",
              "  </button>\n",
              "\n",
              "<style>\n",
              "  .colab-df-quickchart {\n",
              "      --bg-color: #E8F0FE;\n",
              "      --fill-color: #1967D2;\n",
              "      --hover-bg-color: #E2EBFA;\n",
              "      --hover-fill-color: #174EA6;\n",
              "      --disabled-fill-color: #AAA;\n",
              "      --disabled-bg-color: #DDD;\n",
              "  }\n",
              "\n",
              "  [theme=dark] .colab-df-quickchart {\n",
              "      --bg-color: #3B4455;\n",
              "      --fill-color: #D2E3FC;\n",
              "      --hover-bg-color: #434B5C;\n",
              "      --hover-fill-color: #FFFFFF;\n",
              "      --disabled-bg-color: #3B4455;\n",
              "      --disabled-fill-color: #666;\n",
              "  }\n",
              "\n",
              "  .colab-df-quickchart {\n",
              "    background-color: var(--bg-color);\n",
              "    border: none;\n",
              "    border-radius: 50%;\n",
              "    cursor: pointer;\n",
              "    display: none;\n",
              "    fill: var(--fill-color);\n",
              "    height: 32px;\n",
              "    padding: 0;\n",
              "    width: 32px;\n",
              "  }\n",
              "\n",
              "  .colab-df-quickchart:hover {\n",
              "    background-color: var(--hover-bg-color);\n",
              "    box-shadow: 0 1px 2px rgba(60, 64, 67, 0.3), 0 1px 3px 1px rgba(60, 64, 67, 0.15);\n",
              "    fill: var(--button-hover-fill-color);\n",
              "  }\n",
              "\n",
              "  .colab-df-quickchart-complete:disabled,\n",
              "  .colab-df-quickchart-complete:disabled:hover {\n",
              "    background-color: var(--disabled-bg-color);\n",
              "    fill: var(--disabled-fill-color);\n",
              "    box-shadow: none;\n",
              "  }\n",
              "\n",
              "  .colab-df-spinner {\n",
              "    border: 2px solid var(--fill-color);\n",
              "    border-color: transparent;\n",
              "    border-bottom-color: var(--fill-color);\n",
              "    animation:\n",
              "      spin 1s steps(1) infinite;\n",
              "  }\n",
              "\n",
              "  @keyframes spin {\n",
              "    0% {\n",
              "      border-color: transparent;\n",
              "      border-bottom-color: var(--fill-color);\n",
              "      border-left-color: var(--fill-color);\n",
              "    }\n",
              "    20% {\n",
              "      border-color: transparent;\n",
              "      border-left-color: var(--fill-color);\n",
              "      border-top-color: var(--fill-color);\n",
              "    }\n",
              "    30% {\n",
              "      border-color: transparent;\n",
              "      border-left-color: var(--fill-color);\n",
              "      border-top-color: var(--fill-color);\n",
              "      border-right-color: var(--fill-color);\n",
              "    }\n",
              "    40% {\n",
              "      border-color: transparent;\n",
              "      border-right-color: var(--fill-color);\n",
              "      border-top-color: var(--fill-color);\n",
              "    }\n",
              "    60% {\n",
              "      border-color: transparent;\n",
              "      border-right-color: var(--fill-color);\n",
              "    }\n",
              "    80% {\n",
              "      border-color: transparent;\n",
              "      border-right-color: var(--fill-color);\n",
              "      border-bottom-color: var(--fill-color);\n",
              "    }\n",
              "    90% {\n",
              "      border-color: transparent;\n",
              "      border-bottom-color: var(--fill-color);\n",
              "    }\n",
              "  }\n",
              "</style>\n",
              "\n",
              "  <script>\n",
              "    async function quickchart(key) {\n",
              "      const quickchartButtonEl =\n",
              "        document.querySelector('#' + key + ' button');\n",
              "      quickchartButtonEl.disabled = true;  // To prevent multiple clicks.\n",
              "      quickchartButtonEl.classList.add('colab-df-spinner');\n",
              "      try {\n",
              "        const charts = await google.colab.kernel.invokeFunction(\n",
              "            'suggestCharts', [key], {});\n",
              "      } catch (error) {\n",
              "        console.error('Error during call to suggestCharts:', error);\n",
              "      }\n",
              "      quickchartButtonEl.classList.remove('colab-df-spinner');\n",
              "      quickchartButtonEl.classList.add('colab-df-quickchart-complete');\n",
              "    }\n",
              "    (() => {\n",
              "      let quickchartButtonEl =\n",
              "        document.querySelector('#df-9ca46090-97be-47cf-8f6c-79016477aad6 button');\n",
              "      quickchartButtonEl.style.display =\n",
              "        google.colab.kernel.accessAllowed ? 'block' : 'none';\n",
              "    })();\n",
              "  </script>\n",
              "</div>\n",
              "    </div>\n",
              "  </div>\n"
            ],
            "application/vnd.google.colaboratory.intrinsic+json": {
              "type": "dataframe",
              "summary": "{\n  \"name\": \"df\",\n  \"rows\": 8,\n  \"fields\": [\n    {\n      \"column\": \"A_id\",\n      \"properties\": {\n        \"dtype\": \"number\",\n        \"std\": 1441.400410279492,\n        \"min\": 0.0,\n        \"max\": 4000.0,\n        \"num_unique_values\": 7,\n        \"samples\": [\n          4000.0,\n          1999.5,\n          2999.25\n        ],\n        \"semantic_type\": \"\",\n        \"description\": \"\"\n      }\n    },\n    {\n      \"column\": \"Size\",\n      \"properties\": {\n        \"dtype\": \"number\",\n        \"std\": 1414.2613173169073,\n        \"min\": -7.151703059,\n        \"max\": 4000.0,\n        \"num_unique_values\": 8,\n        \"samples\": [\n          -0.50301462982675,\n          -0.5137025125000001,\n          4000.0\n        ],\n        \"semantic_type\": \"\",\n        \"description\": \"\"\n      }\n    },\n    {\n      \"column\": \"Weight\",\n      \"properties\": {\n        \"dtype\": \"number\",\n        \"std\": 1414.4056399099836,\n        \"min\": -7.149847675,\n        \"max\": 4000.0,\n        \"num_unique_values\": 8,\n        \"samples\": [\n          -0.9895465445945,\n          -0.9847364865,\n          4000.0\n        ],\n        \"semantic_type\": \"\",\n        \"description\": \"\"\n      }\n    },\n    {\n      \"column\": \"Sweetness\",\n      \"properties\": {\n        \"dtype\": \"number\",\n        \"std\": 1414.2430550583802,\n        \"min\": -6.894485494,\n        \"max\": 4000.0,\n        \"num_unique_values\": 8,\n        \"samples\": [\n          -0.47047851978824995,\n          -0.5047584635,\n          4000.0\n        ],\n        \"semantic_type\": \"\",\n        \"description\": \"\"\n      }\n    },\n    {\n      \"column\": \"Crunchiness\",\n      \"properties\": {\n        \"dtype\": \"number\",\n        \"std\": 1413.8694630912494,\n        \"min\": -6.055057805,\n        \"max\": 4000.0,\n        \"num_unique_values\": 8,\n        \"samples\": [\n          0.9854779038585,\n          0.9982494390000001,\n          4000.0\n        ],\n        \"semantic_type\": \"\",\n        \"description\": \"\"\n      }\n    },\n    {\n      \"column\": \"Juiciness\",\n      \"properties\": {\n        \"dtype\": \"number\",\n        \"std\": 1413.9448657064765,\n        \"min\": -5.961897048,\n        \"max\": 4000.0,\n        \"num_unique_values\": 8,\n        \"samples\": [\n          0.5121179684932501,\n          0.5342186584999999,\n          4000.0\n        ],\n        \"semantic_type\": \"\",\n        \"description\": \"\"\n      }\n    },\n    {\n      \"column\": \"Ripeness\",\n      \"properties\": {\n        \"dtype\": \"number\",\n        \"std\": 1413.9532802549068,\n        \"min\": -5.864598918,\n        \"max\": 4000.0,\n        \"num_unique_values\": 8,\n        \"samples\": [\n          0.4982774280305,\n          0.5034447135,\n          4000.0\n        ],\n        \"semantic_type\": \"\",\n        \"description\": \"\"\n      }\n    }\n  ]\n}"
            }
          },
          "metadata": {},
          "execution_count": 15
        }
      ]
    },
    {
      "cell_type": "markdown",
      "source": [
        "1. A_id: Jumlah ID adalah 4000, yang berarti setiap ID unik dari 0 hingga 3999. Nilai rata-rata adalah 1999.5 dengan standar deviasi sekitar 1154.84, yang menunjukkan seberapa jauh data tersebar dari rata-rata. Nilai minimum adalah 0 dan nilai maksimum adalah 3999.\n",
        "\n",
        "2. Size: Nilai rata-rata adalah -0.503015 dengan standar deviasi sekitar 1.928059. Nilai minimum adalah -7.151703 dan nilai maksimum adalah 6.406367.\n",
        "\n",
        "3. Weight: Nilai rata-rata adalah -0.989547 dengan standar deviasi sekitar 1.602507. Nilai minimum adalah -7.149848 dan nilai maksimum adalah 5.790714.\n",
        "\n",
        "4. Sweetness: Nilai rata-rata adalah -0.470479 dengan standar deviasi sekitar 1.943441. Nilai minimum adalah -6.894485 dan nilai maksimum adalah 6.374916.\n",
        "\n",
        "5. Crunchiness: Nilai rata-rata adalah 0.985478 dengan standar deviasi sekitar 1.402757. Nilai minimum adalah -6.055058 dan nilai maksimum adalah 7.619852.\n",
        "\n",
        "6. Juiciness: Nilai rata-rata adalah 0.512118 dengan standar deviasi sekitar 1.930286. Nilai minimum adalah -5.961897 dan nilai maksimum adalah 7.364403.\n",
        "\n",
        "7. Ripeness: Nilai rata-rata adalah 0.498277 dengan standar deviasi sekitar 1.874427. Nilai minimum adalah -5.864599 dan nilai maksimum adalah 7.237837."
      ],
      "metadata": {
        "id": "mQORTmhXUWYw"
      }
    },
    {
      "cell_type": "markdown",
      "source": [
        "## **Exploratory Data Analysis**"
      ],
      "metadata": {
        "id": "-BpRA1Aac1EX"
      }
    },
    {
      "cell_type": "code",
      "source": [
        "df = pd.read_csv('apple_quality.csv')\n",
        "\n",
        "# Define the list of columns to visualize\n",
        "columns = ['Size', 'Weight', 'Sweetness', 'Crunchiness', 'Juiciness', 'Ripeness', 'Acidity']\n",
        "\n",
        "# Create the plot\n",
        "plt.figure(figsize=(10, 8))\n",
        "\n",
        "for i, Quality in enumerate(columns):\n",
        "    plt.subplot(3, 3, i + 1)\n",
        "    sns.histplot(data=df, x=Quality, kde=True, bins=15, color='purple')\n",
        "\n",
        "plt.show()"
      ],
      "metadata": {
        "colab": {
          "base_uri": "https://localhost:8080/",
          "height": 696
        },
        "id": "TBKWPr0WdIVi",
        "outputId": "de25710a-9875-4acb-e13e-b3f960f794a2"
      },
      "execution_count": 29,
      "outputs": [
        {
          "output_type": "display_data",
          "data": {
            "text/plain": [
              "<Figure size 1000x800 with 7 Axes>"
            ],
            "image/png": "[encoded data removed]"
          },
          "metadata": {}
        }
      ]
    },
    {
      "cell_type": "markdown",
      "source": [
        "Berikut adalah beberapa asumsi yang dapat kita buat dari visualisasi tersebut:\n",
        "\n",
        "- Size vs Quality:\n",
        "\n",
        "Asumsi: Terdapat kecenderungan bahwa buah apel dengan ukuran lebih besar cenderung memiliki kualitas yang lebih baik. Hal ini dapat diasumsikan berdasarkan distribusi data yang menunjukkan bahwa sebagian besar buah apel dengan kualitas 'A' dan 'B' memiliki ukuran yang lebih besar.\n",
        "\n",
        "- Weight vs Quality:\n",
        "\n",
        "Asumsi: Terdapat kecenderungan bahwa buah apel dengan berat yang lebih tinggi cenderung memiliki kualitas yang lebih baik. Hal ini dapat diasumsikan berdasarkan distribusi data yang menunjukkan bahwa sebagian besar buah apel dengan kualitas 'A' dan 'B' memiliki berat yang lebih tinggi.\n",
        "\n",
        "- Sweetness vs Quality:\n",
        "\n",
        "Asumsi: Terdapat kecenderungan bahwa buah apel dengan tingkat manis yang lebih tinggi cenderung memiliki kualitas yang lebih baik. Hal ini dapat diasumsikan berdasarkan distribusi data yang menunjukkan bahwa sebagian besar buah apel dengan kualitas 'A' dan 'B' memiliki tingkat manis yang lebih tinggi.\n",
        "\n",
        "- Crunchiness vs Quality:\n",
        "\n",
        "Asumsi: Terdapat kecenderungan bahwa buah apel dengan tingkat kerenyahan yang lebih tinggi cenderung memiliki kualitas yang lebih baik. Hal ini dapat diasumsikan berdasarkan distribusi data yang menunjukkan bahwa sebagian besar buah apel dengan kualitas 'A' dan 'B' memiliki tingkat kerenyahan yang lebih tinggi.\n",
        "\n",
        "- Juiciness vs Quality:\n",
        "\n",
        "Asumsi: Terdapat kecenderungan bahwa buah apel dengan tingkat kelembaban atau kandungan jus yang lebih tinggi cenderung memiliki kualitas yang lebih baik. Hal ini dapat diasumsikan berdasarkan distribusi data yang menunjukkan bahwa sebagian besar buah apel dengan kualitas 'A' dan 'B' memiliki tingkat kelembaban atau kandungan jus yang lebih tinggi.\n",
        "\n",
        "- Ripeness vs Quality:\n",
        "\n",
        "Asumsi: Terdapat kecenderungan bahwa buah apel yang lebih matang cenderung memiliki kualitas yang lebih baik. Hal ini dapat diasumsikan berdasarkan distribusi data yang menunjukkan bahwa sebagian besar buah apel dengan kualitas 'A' dan 'B' memiliki tingkat kematangan yang lebih tinggi.\n",
        "\n",
        "- Acidity vs Quality:\n",
        "\n",
        "Asumsi: Terdapat kecenderungan bahwa buah apel dengan tingkat keasaman yang lebih rendah cenderung memiliki kualitas yang lebih baik. Hal ini dapat diasumsikan berdasarkan distribusi data yang menunjukkan bahwa sebagian besar buah apel dengan kualitas 'A' dan 'B' memiliki tingkat keasaman yang lebih rendah."
      ],
      "metadata": {
        "id": "EaHnm6GchSfA"
      }
    },
    {
      "cell_type": "markdown",
      "source": [
        "## **Verify Data Quality**"
      ],
      "metadata": {
        "id": "T7kJt1l7iMTq"
      }
    },
    {
      "cell_type": "markdown",
      "source": [
        "### Missing Values"
      ],
      "metadata": {
        "id": "3PWfoqiciStr"
      }
    },
    {
      "cell_type": "code",
      "source": [
        "data = pd.read_csv('apple_quality.csv')\n",
        "\n",
        "# Mengecek apakah ada nilai kosong pada setiap kolom\n",
        "missing_values = data.isnull().sum()\n",
        "\n",
        "# Menampilkan jumlah nilai kosong pada tiap kolom\n",
        "print(missing_values)\n"
      ],
      "metadata": {
        "colab": {
          "base_uri": "https://localhost:8080/"
        },
        "id": "1HCc7EoMio3m",
        "outputId": "9018d7d7-ef96-443a-dfd7-54250e87c26a"
      },
      "execution_count": 26,
      "outputs": [
        {
          "output_type": "stream",
          "name": "stdout",
          "text": [
            "A_id           1\n",
            "Size           1\n",
            "Weight         1\n",
            "Sweetness      1\n",
            "Crunchiness    1\n",
            "Juiciness      1\n",
            "Ripeness       1\n",
            "Acidity        0\n",
            "Quality        1\n",
            "dtype: int64\n"
          ]
        }
      ]
    },
    {
      "cell_type": "markdown",
      "source": [
        "A_id: Ada 1 nilai kosong.\n",
        "Size: Ada 1 nilai kosong.\n",
        "Weight: Ada 1 nilai kosong.\n",
        "Sweetness: Ada 1 nilai kosong.\n",
        "Crunchiness: Ada 1 nilai kosong.\n",
        "Juiciness: Ada 1 nilai kosong.\n",
        "Ripeness: Ada 1 nilai kosong.\n",
        "Acidity: Tidak ada nilai kosong (0).\n",
        "Quality: Ada 1 nilai kosong."
      ],
      "metadata": {
        "id": "l-Jj-Ldupzed"
      }
    },
    {
      "cell_type": "markdown",
      "source": [
        "### Outliers Values"
      ],
      "metadata": {
        "id": "f1JKMAn_qSw_"
      }
    },
    {
      "cell_type": "code",
      "source": [
        "# Mendefinisikan fungsi untuk mendeteksi outliers dan menghitung persentase\n",
        "def detect_outliers(column):\n",
        "    # Convert the column to a numeric data type\n",
        "    column = pd.to_numeric(column, errors='coerce')\n",
        "\n",
        "    # Remove NaN values\n",
        "    column = column.dropna()\n",
        "\n",
        "    Q1 = column.quantile(0.25)\n",
        "    Q3 = column.quantile(0.75)\n",
        "    IQR = Q3 - Q1\n",
        "\n",
        "    # Detect outliers\n",
        "    outliers = (column < (Q1 - 1.5 * IQR)) | (column > (Q3 + 1.5 * IQR))\n",
        "\n",
        "    # Calculate the percentage of outliers\n",
        "    percentage_outliers = outliers.sum() / len(column) * 100\n",
        "\n",
        "    return outliers, percentage_outliers\n",
        "\n",
        "\n",
        "# Loop untuk setiap kolom\n",
        "for column in df.columns:\n",
        "    outliers, percentage_outliers = detect_outliers(df[column])\n",
        "\n",
        "    print(f\"Kolom '{column}':\")\n",
        "    print(f\"  - Jumlah outliers: {outliers.sum()}\")\n",
        "    print(f\"  - Persentase kehadiran outliers: {percentage_outliers:.2f}%\")\n",
        "    print()"
      ],
      "metadata": {
        "colab": {
          "base_uri": "https://localhost:8080/"
        },
        "id": "z5HjXic6wxIR",
        "outputId": "feae0cbf-0972-4b25-8b4d-810324229164"
      },
      "execution_count": 41,
      "outputs": [
        {
          "output_type": "stream",
          "name": "stdout",
          "text": [
            "Kolom 'A_id':\n",
            "  - Jumlah outliers: 0\n",
            "  - Persentase kehadiran outliers: 0.00%\n",
            "\n",
            "Kolom 'Size':\n",
            "  - Jumlah outliers: 22\n",
            "  - Persentase kehadiran outliers: 0.55%\n",
            "\n",
            "Kolom 'Weight':\n",
            "  - Jumlah outliers: 54\n",
            "  - Persentase kehadiran outliers: 1.35%\n",
            "\n",
            "Kolom 'Sweetness':\n",
            "  - Jumlah outliers: 32\n",
            "  - Persentase kehadiran outliers: 0.80%\n",
            "\n",
            "Kolom 'Crunchiness':\n",
            "  - Jumlah outliers: 47\n",
            "  - Persentase kehadiran outliers: 1.18%\n",
            "\n",
            "Kolom 'Juiciness':\n",
            "  - Jumlah outliers: 32\n",
            "  - Persentase kehadiran outliers: 0.80%\n",
            "\n",
            "Kolom 'Ripeness':\n",
            "  - Jumlah outliers: 24\n",
            "  - Persentase kehadiran outliers: 0.60%\n",
            "\n",
            "Kolom 'Acidity':\n",
            "  - Jumlah outliers: 20\n",
            "  - Persentase kehadiran outliers: 0.50%\n",
            "\n",
            "Kolom 'Quality':\n",
            "  - Jumlah outliers: 0\n",
            "  - Persentase kehadiran outliers: nan%\n",
            "\n"
          ]
        }
      ]
    },
    {
      "cell_type": "markdown",
      "source": [
        "Berikut adalah penjelasan untuk setiap kolom:\n",
        "\n",
        "- Kolom 'A_id': Tidak ada outliers dalam kolom ini, karena jumlah outliers adalah 0 dan persentase kehadiran outliers adalah 0.00%.\n",
        "- Kolom 'Size': Terdapat 22 outliers dalam kolom ini, yang menyumbang 0.55% dari total data.\n",
        "- Kolom 'Weight': Terdapat 54 outliers dalam kolom ini, yang menyumbang 1.35% dari total data.\n",
        "-Kolom 'Sweetness': Terdapat 32 outliers dalam kolom ini, yang menyumbang 0.80% dari total data.\n",
        "- Kolom 'Crunchiness': Terdapat 47 outliers dalam kolom ini, yang menyumbang 1.18% dari total data.\n",
        "- Kolom 'Juiciness': Terdapat 32 outliers dalam kolom ini, yang menyumbang 0.80% dari total data.\n",
        "- Kolom 'Ripeness': Terdapat 24 outliers dalam kolom ini, yang menyumbang 0.60% dari total data.\n",
        "- Kolom 'Acidity': Terdapat 20 outliers dalam kolom ini, yang menyumbang 0.50% dari total data.\n",
        "- Kolom 'Quality': Tidak ada outliers dalam kolom ini, karena jumlah outliers adalah 0 dan persentase kehadiran outliers adalah NaN (karena tidak ada data yang dapat dibagi).\n",
        "\n",
        "Dari hasil tersebut, dapat dilihat bahwa kolom 'Weight', 'Crunchiness', dan 'Juiciness' memiliki jumlah outliers yang relatif besar (lebih dari 1%), sementara kolom lainnya memiliki jumlah outliers yang lebih kecil (kurang dari 1%). Hal ini menunjukkan bahwa kolom 'Weight', 'Crunchiness', dan 'Juiciness' mungkin memiliki variasi yang lebih besar dibandingkan dengan kolom lainnya."
      ],
      "metadata": {
        "id": "OvPnnuKWx3Kd"
      }
    },
    {
      "cell_type": "markdown",
      "source": [
        "### Duplicated Values"
      ],
      "metadata": {
        "id": "jyrXYht7tGn1"
      }
    },
    {
      "cell_type": "code",
      "source": [
        "duplicates_by_values = df.duplicated().sum()\n",
        "\n",
        "# Menampilkan jumlah nilai duplikat pada tiap kolom\n",
        "print(duplicates_by_values)"
      ],
      "metadata": {
        "colab": {
          "base_uri": "https://localhost:8080/"
        },
        "id": "V5FMb-NXtKfX",
        "outputId": "8a8b6839-d036-4b4d-82b5-17bcccf39551"
      },
      "execution_count": 37,
      "outputs": [
        {
          "output_type": "stream",
          "name": "stdout",
          "text": [
            "0\n"
          ]
        }
      ]
    },
    {
      "cell_type": "markdown",
      "source": [
        "untuk hasil dari duplikatnya 0"
      ],
      "metadata": {
        "id": "NErbLsgBvKgt"
      }
    }
  ]
}